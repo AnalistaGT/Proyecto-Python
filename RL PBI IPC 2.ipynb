{
 "cells": [
  {
   "cell_type": "code",
   "execution_count": 2,
   "id": "177df354",
   "metadata": {},
   "outputs": [],
   "source": [
    "# Tratamiento de datos\n",
    "# ==============================================================================\n",
    "import pandas as pd\n",
    "import numpy as np\n",
    "\n",
    "# Gráficos\n",
    "# ==============================================================================\n",
    "import matplotlib.pyplot as plt\n",
    "from matplotlib import style\n",
    "import seaborn as sns\n",
    "\n",
    "# Preprocesado y modelado\n",
    "# ==============================================================================\n",
    "from scipy.stats import pearsonr\n",
    "from sklearn.linear_model import LinearRegression\n",
    "from sklearn.model_selection import train_test_split\n",
    "from sklearn.metrics import r2_score\n",
    "from sklearn.metrics import mean_squared_error\n",
    "import statsmodels.api as sm\n",
    "import statsmodels.formula.api as smf\n",
    "\n",
    "# Configuración matplotlib\n",
    "# ==============================================================================\n",
    "plt.rcParams['image.cmap'] = \"bwr\"\n",
    "#plt.rcParams['figure.dpi'] = \"100\"\n",
    "plt.rcParams['savefig.bbox'] = \"tight\"\n",
    "style.use('ggplot') or plt.style.use('ggplot')\n",
    "\n",
    "# Configuración warnings\n",
    "# ==============================================================================\n",
    "import warnings\n",
    "warnings.filterwarnings('ignore')"
   ]
  },
  {
   "cell_type": "code",
   "execution_count": 3,
   "id": "5a7652d3",
   "metadata": {},
   "outputs": [
    {
     "data": {
      "text/html": [
       "<div>\n",
       "<style scoped>\n",
       "    .dataframe tbody tr th:only-of-type {\n",
       "        vertical-align: middle;\n",
       "    }\n",
       "\n",
       "    .dataframe tbody tr th {\n",
       "        vertical-align: top;\n",
       "    }\n",
       "\n",
       "    .dataframe thead th {\n",
       "        text-align: right;\n",
       "    }\n",
       "</style>\n",
       "<table border=\"1\" class=\"dataframe\">\n",
       "  <thead>\n",
       "    <tr style=\"text-align: right;\">\n",
       "      <th></th>\n",
       "      <th>NOMENCLATURA</th>\n",
       "      <th>DEUDA</th>\n",
       "      <th>PAGO</th>\n",
       "      <th>EFECTIVIDAD</th>\n",
       "      <th>PBI</th>\n",
       "    </tr>\n",
       "  </thead>\n",
       "  <tbody>\n",
       "    <tr>\n",
       "      <th>0</th>\n",
       "      <td>202012SUPNT1</td>\n",
       "      <td>1.187237e+06</td>\n",
       "      <td>764853.45</td>\n",
       "      <td>64.423000</td>\n",
       "      <td>12.323487</td>\n",
       "    </tr>\n",
       "    <tr>\n",
       "      <th>1</th>\n",
       "      <td>202101SUPNT1</td>\n",
       "      <td>2.425175e+06</td>\n",
       "      <td>1694535.64</td>\n",
       "      <td>69.872705</td>\n",
       "      <td>-16.163466</td>\n",
       "    </tr>\n",
       "    <tr>\n",
       "      <th>2</th>\n",
       "      <td>202102SUPNT1</td>\n",
       "      <td>4.209169e+06</td>\n",
       "      <td>2051497.35</td>\n",
       "      <td>48.738778</td>\n",
       "      <td>-3.264188</td>\n",
       "    </tr>\n",
       "    <tr>\n",
       "      <th>3</th>\n",
       "      <td>202103SUPNT1</td>\n",
       "      <td>4.308773e+06</td>\n",
       "      <td>2393471.94</td>\n",
       "      <td>55.548810</td>\n",
       "      <td>6.144830</td>\n",
       "    </tr>\n",
       "    <tr>\n",
       "      <th>4</th>\n",
       "      <td>202104SUPNT1</td>\n",
       "      <td>5.844861e+06</td>\n",
       "      <td>3313286.93</td>\n",
       "      <td>56.687181</td>\n",
       "      <td>-0.250562</td>\n",
       "    </tr>\n",
       "    <tr>\n",
       "      <th>5</th>\n",
       "      <td>202105SUPNT1</td>\n",
       "      <td>5.289962e+06</td>\n",
       "      <td>2914651.68</td>\n",
       "      <td>55.097779</td>\n",
       "      <td>6.730660</td>\n",
       "    </tr>\n",
       "    <tr>\n",
       "      <th>6</th>\n",
       "      <td>202106SUPNT1</td>\n",
       "      <td>6.536270e+06</td>\n",
       "      <td>3784816.57</td>\n",
       "      <td>57.904839</td>\n",
       "      <td>-1.632093</td>\n",
       "    </tr>\n",
       "    <tr>\n",
       "      <th>7</th>\n",
       "      <td>202107SUPNT1</td>\n",
       "      <td>5.693511e+06</td>\n",
       "      <td>3198860.23</td>\n",
       "      <td>56.184321</td>\n",
       "      <td>0.617616</td>\n",
       "    </tr>\n",
       "    <tr>\n",
       "      <th>8</th>\n",
       "      <td>202108SUPNT1</td>\n",
       "      <td>6.609261e+06</td>\n",
       "      <td>3867855.35</td>\n",
       "      <td>58.521750</td>\n",
       "      <td>0.888500</td>\n",
       "    </tr>\n",
       "    <tr>\n",
       "      <th>9</th>\n",
       "      <td>202109SUPNT1</td>\n",
       "      <td>6.520838e+06</td>\n",
       "      <td>3400043.84</td>\n",
       "      <td>52.141210</td>\n",
       "      <td>1.747820</td>\n",
       "    </tr>\n",
       "    <tr>\n",
       "      <th>10</th>\n",
       "      <td>202110SUPNT1</td>\n",
       "      <td>5.632278e+06</td>\n",
       "      <td>2560568.78</td>\n",
       "      <td>45.462397</td>\n",
       "      <td>0.326903</td>\n",
       "    </tr>\n",
       "    <tr>\n",
       "      <th>11</th>\n",
       "      <td>202111SUPNT1</td>\n",
       "      <td>5.694134e+06</td>\n",
       "      <td>2759295.03</td>\n",
       "      <td>48.458551</td>\n",
       "      <td>-1.182113</td>\n",
       "    </tr>\n",
       "    <tr>\n",
       "      <th>12</th>\n",
       "      <td>202112SUPNT1</td>\n",
       "      <td>7.551116e+06</td>\n",
       "      <td>3991868.31</td>\n",
       "      <td>52.864612</td>\n",
       "      <td>10.373614</td>\n",
       "    </tr>\n",
       "    <tr>\n",
       "      <th>13</th>\n",
       "      <td>202201SUPNT1</td>\n",
       "      <td>7.880461e+06</td>\n",
       "      <td>3594113.08</td>\n",
       "      <td>45.607906</td>\n",
       "      <td>-15.348880</td>\n",
       "    </tr>\n",
       "    <tr>\n",
       "      <th>14</th>\n",
       "      <td>202202SUPNT1</td>\n",
       "      <td>9.662088e+06</td>\n",
       "      <td>5200284.37</td>\n",
       "      <td>53.821538</td>\n",
       "      <td>-1.383632</td>\n",
       "    </tr>\n",
       "  </tbody>\n",
       "</table>\n",
       "</div>"
      ],
      "text/plain": [
       "    NOMENCLATURA         DEUDA        PAGO  EFECTIVIDAD        PBI\n",
       "0   202012SUPNT1  1.187237e+06   764853.45    64.423000  12.323487\n",
       "1   202101SUPNT1  2.425175e+06  1694535.64    69.872705 -16.163466\n",
       "2   202102SUPNT1  4.209169e+06  2051497.35    48.738778  -3.264188\n",
       "3   202103SUPNT1  4.308773e+06  2393471.94    55.548810   6.144830\n",
       "4   202104SUPNT1  5.844861e+06  3313286.93    56.687181  -0.250562\n",
       "5   202105SUPNT1  5.289962e+06  2914651.68    55.097779   6.730660\n",
       "6   202106SUPNT1  6.536270e+06  3784816.57    57.904839  -1.632093\n",
       "7   202107SUPNT1  5.693511e+06  3198860.23    56.184321   0.617616\n",
       "8   202108SUPNT1  6.609261e+06  3867855.35    58.521750   0.888500\n",
       "9   202109SUPNT1  6.520838e+06  3400043.84    52.141210   1.747820\n",
       "10  202110SUPNT1  5.632278e+06  2560568.78    45.462397   0.326903\n",
       "11  202111SUPNT1  5.694134e+06  2759295.03    48.458551  -1.182113\n",
       "12  202112SUPNT1  7.551116e+06  3991868.31    52.864612  10.373614\n",
       "13  202201SUPNT1  7.880461e+06  3594113.08    45.607906 -15.348880\n",
       "14  202202SUPNT1  9.662088e+06  5200284.37    53.821538  -1.383632"
      ]
     },
     "execution_count": 3,
     "metadata": {},
     "output_type": "execute_result"
    }
   ],
   "source": [
    "df = pd.read_excel(r'C:\\Users\\G&T Asesores\\Desktop\\Indicadores\\SUPNT1 TOTAL\\PBI IPC T1.xlsx')\n",
    "df"
   ]
  },
  {
   "cell_type": "code",
   "execution_count": 4,
   "id": "7cd174b0",
   "metadata": {},
   "outputs": [
    {
     "data": {
      "image/png": "[encoded data removed]",
      "text/plain": [
       "<Figure size 1080x720 with 1 Axes>"
      ]
     },
     "metadata": {},
     "output_type": "display_data"
    }
   ],
   "source": [
    "fig, ax = plt.subplots(figsize=(15,10))\n",
    "\n",
    "df.plot(\n",
    "    x    = 'PBI',\n",
    "    y    = 'EFECTIVIDAD',\n",
    "    kind = \"scatter\",\n",
    "    ax   = ax\n",
    ")\n",
    "ax.set_title('Distribución de PBI y EFECTIVIDAD');"
   ]
  },
  {
   "cell_type": "code",
   "execution_count": 5,
   "id": "0ed9177d",
   "metadata": {},
   "outputs": [
    {
     "name": "stdout",
     "output_type": "stream",
     "text": [
      "Coeficiente de correlación de Pearson:  0.03055544574935412\n",
      "P-value:  0.9139177405228548\n"
     ]
    }
   ],
   "source": [
    "# Correlación lineal entre las dos variables\n",
    "# ==============================================================================\n",
    "corr_test = pearsonr(x = df['PBI'], y =  df['EFECTIVIDAD'])\n",
    "print(\"Coeficiente de correlación de Pearson: \", corr_test[0])\n",
    "print(\"P-value: \", corr_test[1])"
   ]
  },
  {
   "cell_type": "code",
   "execution_count": 6,
   "id": "a8a9ee71",
   "metadata": {},
   "outputs": [
    {
     "data": {
      "text/plain": [
       "LinearRegression()"
      ]
     },
     "execution_count": 6,
     "metadata": {},
     "output_type": "execute_result"
    }
   ],
   "source": [
    "# División de los datos en train y test\n",
    "# ==============================================================================\n",
    "X = df[['PBI']]\n",
    "y = df['EFECTIVIDAD']\n",
    "\n",
    "X_train, X_test, y_train, y_test = train_test_split(\n",
    "                                        X.values.reshape(-1,1),\n",
    "                                        y.values.reshape(-1,1),\n",
    "                                        train_size   = 0.8,\n",
    "                                        random_state = 1234,\n",
    "                                        shuffle      = True\n",
    "                                    )\n",
    "\n",
    "# Creación del modelo\n",
    "# ==============================================================================\n",
    "modelo = LinearRegression()\n",
    "modelo.fit(X = X_train.reshape(-1, 1), y = y_train)"
   ]
  },
  {
   "cell_type": "code",
   "execution_count": 7,
   "id": "6a5a9604",
   "metadata": {},
   "outputs": [
    {
     "name": "stdout",
     "output_type": "stream",
     "text": [
      "Intercepto: [55.41812924]\n",
      "Coeficiente: [('PBI', -0.5250553637432627)]\n",
      "Coeficiente de determinación R^2: -0.437980112478088\n"
     ]
    }
   ],
   "source": [
    "# Información del modelo\n",
    "# ==============================================================================\n",
    "print(\"Intercepto:\", modelo.intercept_)\n",
    "print(\"Coeficiente:\", list(zip(X.columns, modelo.coef_.flatten(), )))\n",
    "print(\"Coeficiente de determinación R^2:\", modelo.score(X, y))"
   ]
  },
  {
   "cell_type": "code",
   "execution_count": 8,
   "id": "e10f1895",
   "metadata": {},
   "outputs": [
    {
     "name": "stdout",
     "output_type": "stream",
     "text": [
      "[[63.4771412 ]\n",
      " [56.03880405]\n",
      " [48.94761644]]\n",
      "\n",
      "El error (rmse) de test es: 14.33244893006946\n"
     ]
    }
   ],
   "source": [
    "# Error de test del modelo \n",
    "# ==============================================================================\n",
    "predicciones = modelo.predict(X = X_test)\n",
    "print(predicciones[0:3,])\n",
    "\n",
    "rmse = mean_squared_error(\n",
    "        y_true  = y_test,\n",
    "        y_pred  = predicciones,\n",
    "        squared = False\n",
    "       )\n",
    "print(\"\")\n",
    "print(f\"El error (rmse) de test es: {rmse}\")"
   ]
  },
  {
   "cell_type": "code",
   "execution_count": 9,
   "id": "073f26da",
   "metadata": {},
   "outputs": [],
   "source": [
    "# División de los datos en train y test\n",
    "# ==============================================================================\n",
    "X = df[['PBI']]\n",
    "y = df['EFECTIVIDAD']\n",
    "\n",
    "X_train, X_test, y_train, y_test = train_test_split(\n",
    "                                        X.values.reshape(-1,1),\n",
    "                                        y.values.reshape(-1,1),\n",
    "                                        train_size   = 0.8,\n",
    "                                        random_state = 1234,\n",
    "                                        shuffle      = True\n",
    "                                    )"
   ]
  },
  {
   "cell_type": "code",
   "execution_count": 10,
   "id": "bdc9195f",
   "metadata": {},
   "outputs": [
    {
     "name": "stdout",
     "output_type": "stream",
     "text": [
      "                            OLS Regression Results                            \n",
      "==============================================================================\n",
      "Dep. Variable:                      y   R-squared:                       0.332\n",
      "Model:                            OLS   Adj. R-squared:                  0.265\n",
      "Method:                 Least Squares   F-statistic:                     4.973\n",
      "Date:                Tue, 24 May 2022   Prob (F-statistic):             0.0498\n",
      "Time:                        15:16:10   Log-Likelihood:                -35.496\n",
      "No. Observations:                  12   AIC:                             74.99\n",
      "Df Residuals:                      10   BIC:                             75.96\n",
      "Df Model:                           1                                         \n",
      "Covariance Type:            nonrobust                                         \n",
      "==============================================================================\n",
      "                 coef    std err          t      P>|t|      [0.025      0.975]\n",
      "------------------------------------------------------------------------------\n",
      "const         55.4181      1.476     37.549      0.000      52.130      58.707\n",
      "x1            -0.5251      0.235     -2.230      0.050      -1.050      -0.000\n",
      "==============================================================================\n",
      "Omnibus:                        3.455   Durbin-Watson:                   1.260\n",
      "Prob(Omnibus):                  0.178   Jarque-Bera (JB):                1.948\n",
      "Skew:                          -0.982   Prob(JB):                        0.378\n",
      "Kurtosis:                       2.815   Cond. No.                         6.28\n",
      "==============================================================================\n",
      "\n",
      "Notes:\n",
      "[1] Standard Errors assume that the covariance matrix of the errors is correctly specified.\n"
     ]
    }
   ],
   "source": [
    "# Creación del modelo utilizando matrices como en scikitlearn\n",
    "# ==============================================================================\n",
    "# A la matriz de predictores se le tiene que añadir una columna de 1s para el intercept del modelo\n",
    "X_train = sm.add_constant(X_train, prepend=True)\n",
    "modelo = sm.OLS(endog=y_train, exog=X_train,)\n",
    "modelo = modelo.fit()\n",
    "print(modelo.summary())"
   ]
  },
  {
   "cell_type": "code",
   "execution_count": 11,
   "id": "dda21e5d",
   "metadata": {},
   "outputs": [
    {
     "data": {
      "text/plain": [
       "array([[ 5.21296064e+01,  5.87066521e+01],\n",
       "       [-1.04964969e+00, -4.61036915e-04]])"
      ]
     },
     "execution_count": 11,
     "metadata": {},
     "output_type": "execute_result"
    }
   ],
   "source": [
    "# Intervalos de confianza para los coeficientes del modelo\n",
    "# ==============================================================================\n",
    "modelo.conf_int(alpha=0.05)"
   ]
  },
  {
   "cell_type": "code",
   "execution_count": 12,
   "id": "f2750b8b",
   "metadata": {},
   "outputs": [
    {
     "data": {
      "text/html": [
       "<div>\n",
       "<style scoped>\n",
       "    .dataframe tbody tr th:only-of-type {\n",
       "        vertical-align: middle;\n",
       "    }\n",
       "\n",
       "    .dataframe tbody tr th {\n",
       "        vertical-align: top;\n",
       "    }\n",
       "\n",
       "    .dataframe thead th {\n",
       "        text-align: right;\n",
       "    }\n",
       "</style>\n",
       "<table border=\"1\" class=\"dataframe\">\n",
       "  <thead>\n",
       "    <tr style=\"text-align: right;\">\n",
       "      <th></th>\n",
       "      <th>mean</th>\n",
       "      <th>mean_se</th>\n",
       "      <th>mean_ci_lower</th>\n",
       "      <th>mean_ci_upper</th>\n",
       "      <th>obs_ci_lower</th>\n",
       "      <th>obs_ci_upper</th>\n",
       "    </tr>\n",
       "  </thead>\n",
       "  <tbody>\n",
       "    <tr>\n",
       "      <th>0</th>\n",
       "      <td>49.971407</td>\n",
       "      <td>2.783357</td>\n",
       "      <td>43.769701</td>\n",
       "      <td>56.173114</td>\n",
       "      <td>37.016044</td>\n",
       "      <td>62.926771</td>\n",
       "    </tr>\n",
       "    <tr>\n",
       "      <th>1</th>\n",
       "      <td>56.144612</td>\n",
       "      <td>1.528820</td>\n",
       "      <td>52.738190</td>\n",
       "      <td>59.551035</td>\n",
       "      <td>44.270944</td>\n",
       "      <td>68.018281</td>\n",
       "    </tr>\n",
       "    <tr>\n",
       "      <th>2</th>\n",
       "      <td>57.132009</td>\n",
       "      <td>1.701074</td>\n",
       "      <td>53.341779</td>\n",
       "      <td>60.922238</td>\n",
       "      <td>45.142592</td>\n",
       "      <td>69.121426</td>\n",
       "    </tr>\n",
       "    <tr>\n",
       "      <th>3</th>\n",
       "      <td>55.246487</td>\n",
       "      <td>1.473679</td>\n",
       "      <td>51.962925</td>\n",
       "      <td>58.530048</td>\n",
       "      <td>43.407481</td>\n",
       "      <td>67.085493</td>\n",
       "    </tr>\n",
       "  </tbody>\n",
       "</table>\n",
       "</div>"
      ],
      "text/plain": [
       "        mean   mean_se  mean_ci_lower  mean_ci_upper  obs_ci_lower  \\\n",
       "0  49.971407  2.783357      43.769701      56.173114     37.016044   \n",
       "1  56.144612  1.528820      52.738190      59.551035     44.270944   \n",
       "2  57.132009  1.701074      53.341779      60.922238     45.142592   \n",
       "3  55.246487  1.473679      51.962925      58.530048     43.407481   \n",
       "\n",
       "   obs_ci_upper  \n",
       "0     62.926771  \n",
       "1     68.018281  \n",
       "2     69.121426  \n",
       "3     67.085493  "
      ]
     },
     "execution_count": 12,
     "metadata": {},
     "output_type": "execute_result"
    }
   ],
   "source": [
    "# Predicciones con intervalo de confianza del 95%\n",
    "# ==============================================================================\n",
    "predicciones = modelo.get_prediction(exog = X_train).summary_frame(alpha=0.05)\n",
    "predicciones.head(4)"
   ]
  },
  {
   "cell_type": "code",
   "execution_count": 13,
   "id": "5fed02c2",
   "metadata": {},
   "outputs": [
    {
     "data": {
      "image/png": "[encoded data removed]",
      "text/plain": [
       "<Figure size 1080x720 with 1 Axes>"
      ]
     },
     "metadata": {},
     "output_type": "display_data"
    }
   ],
   "source": [
    "# Predicciones con intervalo de confianza del 95%\n",
    "# ==============================================================================\n",
    "predicciones = modelo.get_prediction(exog = X_train).summary_frame(alpha=0.05)\n",
    "predicciones['x'] = X_train[:, 1]\n",
    "predicciones['y'] = y_train\n",
    "predicciones = predicciones.sort_values('x')\n",
    "\n",
    "# Gráfico del modelo\n",
    "# ==============================================================================\n",
    "fig, ax = plt.subplots(figsize=(15,10))\n",
    "\n",
    "ax.scatter(predicciones['x'], predicciones['y'], marker='o', color = \"gray\")\n",
    "ax.plot(predicciones['x'], predicciones[\"mean\"], linestyle='-', label=\"OLS\")\n",
    "ax.plot(predicciones['x'], predicciones[\"mean_ci_lower\"], linestyle='--', color='red', label=\"95% CI\")\n",
    "ax.plot(predicciones['x'], predicciones[\"mean_ci_upper\"], linestyle='--', color='red')\n",
    "ax.fill_between(predicciones['x'], predicciones[\"mean_ci_lower\"], predicciones[\"mean_ci_upper\"], alpha=0.1)\n",
    "ax.legend()\n",
    "plt.xlabel(\"PBI\",fontsize=12)\n",
    "plt.ylabel(\"EFECTIVIDAD\",fontsize=12)\n",
    "plt.title(\"RELACION PBI VS EFECTIVIDAD\",fontsize=15)\n",
    "plt.show()"
   ]
  },
  {
   "cell_type": "code",
   "execution_count": 14,
   "id": "1c197ff3",
   "metadata": {},
   "outputs": [
    {
     "name": "stdout",
     "output_type": "stream",
     "text": [
      "\n",
      "El error (rmse) de test es: 14.33244893006945\n"
     ]
    }
   ],
   "source": [
    "# Error de test del modelo \n",
    "# ==============================================================================\n",
    "X_test = sm.add_constant(X_test, prepend=True)\n",
    "predicciones = modelo.predict(exog = X_test)\n",
    "rmse = mean_squared_error(\n",
    "        y_true  = y_test,\n",
    "        y_pred  = predicciones,\n",
    "        squared = False\n",
    "       )\n",
    "print(\"\")\n",
    "print(f\"El error (rmse) de test es: {rmse}\")"
   ]
  },
  {
   "cell_type": "code",
   "execution_count": 4,
   "id": "e7abcec4",
   "metadata": {},
   "outputs": [
    {
     "data": {
      "image/png": "[encoded data removed]",
      "text/plain": [
       "<Figure size 1080x720 with 1 Axes>"
      ]
     },
     "metadata": {},
     "output_type": "display_data"
    }
   ],
   "source": [
    "fig, ax = plt.subplots(figsize=(15,10))\n",
    "\n",
    "df.plot(\n",
    "    x    = 'IPC',\n",
    "    y    = 'EFECTIVIDAD',\n",
    "    kind = \"scatter\",\n",
    "    ax   = ax\n",
    ")\n",
    "ax.set_title('Distribución de IPC y EFECTIVIDAD');"
   ]
  },
  {
   "cell_type": "code",
   "execution_count": 5,
   "id": "6c9d572f",
   "metadata": {},
   "outputs": [
    {
     "name": "stdout",
     "output_type": "stream",
     "text": [
      "Coeficiente de correlación de Pearson:  -0.6113774568212245\n",
      "P-value:  0.01544970200082749\n"
     ]
    }
   ],
   "source": [
    "# Correlación lineal entre las dos variables\n",
    "# ==============================================================================\n",
    "corr_test = pearsonr(x = df['IPC'], y =  df['EFECTIVIDAD'])\n",
    "print(\"Coeficiente de correlación de Pearson: \", corr_test[0])\n",
    "print(\"P-value: \", corr_test[1])"
   ]
  },
  {
   "cell_type": "code",
   "execution_count": 7,
   "id": "c4c89ab4",
   "metadata": {},
   "outputs": [
    {
     "data": {
      "text/plain": [
       "LinearRegression()"
      ]
     },
     "execution_count": 7,
     "metadata": {},
     "output_type": "execute_result"
    }
   ],
   "source": [
    "# División de los datos en train y test\n",
    "# ==============================================================================\n",
    "X = df[['IPC']]\n",
    "y = df['EFECTIVIDAD']\n",
    "\n",
    "X_train, X_test, y_train, y_test = train_test_split(\n",
    "                                        X.values.reshape(-1,1),\n",
    "                                        y.values.reshape(-1,1),\n",
    "                                        train_size   = 0.8,\n",
    "                                        random_state = 1234,\n",
    "                                        shuffle      = True\n",
    "                                    )\n",
    "\n",
    "# Creación del modelo\n",
    "# ==============================================================================\n",
    "modelo = LinearRegression()\n",
    "modelo.fit(X = X_train.reshape(-1, 1), y = y_train)"
   ]
  },
  {
   "cell_type": "code",
   "execution_count": 8,
   "id": "a0ad36c1",
   "metadata": {},
   "outputs": [
    {
     "name": "stdout",
     "output_type": "stream",
     "text": [
      "Intercepto: [168.95752488]\n",
      "Coeficiente: [('IPC', -1.1727898400067418)]\n",
      "Coeficiente de determinación R^2: 0.3260196071219209\n"
     ]
    }
   ],
   "source": [
    "# Información del modelo\n",
    "# ==============================================================================\n",
    "print(\"Intercepto:\", modelo.intercept_)\n",
    "print(\"Coeficiente:\", list(zip(X.columns, modelo.coef_.flatten(), )))\n",
    "print(\"Coeficiente de determinación R^2:\", modelo.score(X, y))"
   ]
  },
  {
   "cell_type": "code",
   "execution_count": 9,
   "id": "d37f4780",
   "metadata": {},
   "outputs": [
    {
     "name": "stdout",
     "output_type": "stream",
     "text": [
      "[[51.63476438]\n",
      " [52.58951073]\n",
      " [58.76438631]]\n",
      "\n",
      "El error (rmse) de test es: 5.335658392835298\n"
     ]
    }
   ],
   "source": [
    "# Error de test del modelo \n",
    "# ==============================================================================\n",
    "predicciones = modelo.predict(X = X_test)\n",
    "print(predicciones[0:3,])\n",
    "\n",
    "rmse = mean_squared_error(\n",
    "        y_true  = y_test,\n",
    "        y_pred  = predicciones,\n",
    "        squared = False\n",
    "       )\n",
    "print(\"\")\n",
    "print(f\"El error (rmse) de test es: {rmse}\")"
   ]
  },
  {
   "cell_type": "code",
   "execution_count": 10,
   "id": "d02624cb",
   "metadata": {},
   "outputs": [],
   "source": [
    "# División de los datos en train y test\n",
    "# ==============================================================================\n",
    "X = df[['PBI']]\n",
    "y = df['EFECTIVIDAD']\n",
    "\n",
    "X_train, X_test, y_train, y_test = train_test_split(\n",
    "                                        X.values.reshape(-1,1),\n",
    "                                        y.values.reshape(-1,1),\n",
    "                                        train_size   = 0.8,\n",
    "                                        random_state = 1234,\n",
    "                                        shuffle      = True\n",
    "                                    )"
   ]
  },
  {
   "cell_type": "code",
   "execution_count": 11,
   "id": "5f539370",
   "metadata": {},
   "outputs": [
    {
     "name": "stdout",
     "output_type": "stream",
     "text": [
      "                            OLS Regression Results                            \n",
      "==============================================================================\n",
      "Dep. Variable:                      y   R-squared:                       0.070\n",
      "Model:                            OLS   Adj. R-squared:                 -0.023\n",
      "Method:                 Least Squares   F-statistic:                    0.7566\n",
      "Date:                Mon, 16 May 2022   Prob (F-statistic):              0.405\n",
      "Time:                        17:53:24   Log-Likelihood:                -37.480\n",
      "No. Observations:                  12   AIC:                             78.96\n",
      "Df Residuals:                      10   BIC:                             79.93\n",
      "Df Model:                           1                                         \n",
      "Covariance Type:            nonrobust                                         \n",
      "==============================================================================\n",
      "                 coef    std err          t      P>|t|      [0.025      0.975]\n",
      "------------------------------------------------------------------------------\n",
      "const         81.2418     29.948      2.713      0.022      14.514     147.969\n",
      "x1            -0.1518      0.174     -0.870      0.405      -0.541       0.237\n",
      "==============================================================================\n",
      "Omnibus:                        3.004   Durbin-Watson:                   1.618\n",
      "Prob(Omnibus):                  0.223   Jarque-Bera (JB):                0.747\n",
      "Skew:                           0.468   Prob(JB):                        0.688\n",
      "Kurtosis:                       3.786   Cond. No.                     2.96e+03\n",
      "==============================================================================\n",
      "\n",
      "Notes:\n",
      "[1] Standard Errors assume that the covariance matrix of the errors is correctly specified.\n",
      "[2] The condition number is large, 2.96e+03. This might indicate that there are\n",
      "strong multicollinearity or other numerical problems.\n"
     ]
    }
   ],
   "source": [
    "# Creación del modelo utilizando matrices como en scikitlearn\n",
    "# ==============================================================================\n",
    "# A la matriz de predictores se le tiene que añadir una columna de 1s para el intercept del modelo\n",
    "X_train = sm.add_constant(X_train, prepend=True)\n",
    "modelo = sm.OLS(endog=y_train, exog=X_train,)\n",
    "modelo = modelo.fit()\n",
    "print(modelo.summary())"
   ]
  },
  {
   "cell_type": "code",
   "execution_count": 12,
   "id": "d58094be",
   "metadata": {},
   "outputs": [
    {
     "data": {
      "text/plain": [
       "array([[ 14.5144245 , 147.96919406],\n",
       "       [ -0.54052326,   0.23699925]])"
      ]
     },
     "execution_count": 12,
     "metadata": {},
     "output_type": "execute_result"
    }
   ],
   "source": [
    "# Intervalos de confianza para los coeficientes del modelo\n",
    "# ==============================================================================\n",
    "modelo.conf_int(alpha=0.05)"
   ]
  },
  {
   "cell_type": "code",
   "execution_count": 13,
   "id": "5683df14",
   "metadata": {},
   "outputs": [
    {
     "data": {
      "text/html": [
       "<div>\n",
       "<style scoped>\n",
       "    .dataframe tbody tr th:only-of-type {\n",
       "        vertical-align: middle;\n",
       "    }\n",
       "\n",
       "    .dataframe tbody tr th {\n",
       "        vertical-align: top;\n",
       "    }\n",
       "\n",
       "    .dataframe thead th {\n",
       "        text-align: right;\n",
       "    }\n",
       "</style>\n",
       "<table border=\"1\" class=\"dataframe\">\n",
       "  <thead>\n",
       "    <tr style=\"text-align: right;\">\n",
       "      <th></th>\n",
       "      <th>mean</th>\n",
       "      <th>mean_se</th>\n",
       "      <th>mean_ci_lower</th>\n",
       "      <th>mean_ci_upper</th>\n",
       "      <th>obs_ci_lower</th>\n",
       "      <th>obs_ci_upper</th>\n",
       "    </tr>\n",
       "  </thead>\n",
       "  <tbody>\n",
       "    <tr>\n",
       "      <th>0</th>\n",
       "      <td>51.649117</td>\n",
       "      <td>4.476559</td>\n",
       "      <td>41.674721</td>\n",
       "      <td>61.623512</td>\n",
       "      <td>34.928223</td>\n",
       "      <td>68.370011</td>\n",
       "    </tr>\n",
       "    <tr>\n",
       "      <th>1</th>\n",
       "      <td>56.428314</td>\n",
       "      <td>2.213245</td>\n",
       "      <td>51.496898</td>\n",
       "      <td>61.359730</td>\n",
       "      <td>42.130811</td>\n",
       "      <td>70.725817</td>\n",
       "    </tr>\n",
       "    <tr>\n",
       "      <th>2</th>\n",
       "      <td>57.588032</td>\n",
       "      <td>3.213712</td>\n",
       "      <td>50.427435</td>\n",
       "      <td>64.748628</td>\n",
       "      <td>42.377053</td>\n",
       "      <td>72.799010</td>\n",
       "    </tr>\n",
       "    <tr>\n",
       "      <th>3</th>\n",
       "      <td>54.189129</td>\n",
       "      <td>2.115385</td>\n",
       "      <td>49.475757</td>\n",
       "      <td>58.902500</td>\n",
       "      <td>39.965360</td>\n",
       "      <td>68.412898</td>\n",
       "    </tr>\n",
       "  </tbody>\n",
       "</table>\n",
       "</div>"
      ],
      "text/plain": [
       "        mean   mean_se  mean_ci_lower  mean_ci_upper  obs_ci_lower  \\\n",
       "0  51.649117  4.476559      41.674721      61.623512     34.928223   \n",
       "1  56.428314  2.213245      51.496898      61.359730     42.130811   \n",
       "2  57.588032  3.213712      50.427435      64.748628     42.377053   \n",
       "3  54.189129  2.115385      49.475757      58.902500     39.965360   \n",
       "\n",
       "   obs_ci_upper  \n",
       "0     68.370011  \n",
       "1     70.725817  \n",
       "2     72.799010  \n",
       "3     68.412898  "
      ]
     },
     "execution_count": 13,
     "metadata": {},
     "output_type": "execute_result"
    }
   ],
   "source": [
    "# Predicciones con intervalo de confianza del 95%\n",
    "# ==============================================================================\n",
    "predicciones = modelo.get_prediction(exog = X_train).summary_frame(alpha=0.05)\n",
    "predicciones.head(4)"
   ]
  },
  {
   "cell_type": "code",
   "execution_count": 15,
   "id": "6ac2437d",
   "metadata": {},
   "outputs": [
    {
     "data": {
      "image/png": "[encoded data removed]",
      "text/plain": [
       "<Figure size 1080x720 with 1 Axes>"
      ]
     },
     "metadata": {},
     "output_type": "display_data"
    }
   ],
   "source": [
    "# Predicciones con intervalo de confianza del 95%\n",
    "# ==============================================================================\n",
    "predicciones = modelo.get_prediction(exog = X_train).summary_frame(alpha=0.05)\n",
    "predicciones['x'] = X_train[:, 1]\n",
    "predicciones['y'] = y_train\n",
    "predicciones = predicciones.sort_values('x')\n",
    "\n",
    "# Gráfico del modelo\n",
    "# ==============================================================================\n",
    "fig, ax = plt.subplots(figsize=(15,10))\n",
    "\n",
    "ax.scatter(predicciones['x'], predicciones['y'], marker='o', color = \"gray\")\n",
    "ax.plot(predicciones['x'], predicciones[\"mean\"], linestyle='-', label=\"OLS\")\n",
    "ax.plot(predicciones['x'], predicciones[\"mean_ci_lower\"], linestyle='--', color='red', label=\"95% CI\")\n",
    "ax.plot(predicciones['x'], predicciones[\"mean_ci_upper\"], linestyle='--', color='red')\n",
    "ax.fill_between(predicciones['x'], predicciones[\"mean_ci_lower\"], predicciones[\"mean_ci_upper\"], alpha=0.1)\n",
    "ax.legend()\n",
    "plt.xlabel(\"IPC\",fontsize=12)\n",
    "plt.ylabel(\"EFECTIVIDAD\",fontsize=12)\n",
    "plt.title(\"RELACION IPC VS EFECTIVIDAD\",fontsize=15)\n",
    "plt.show()"
   ]
  },
  {
   "cell_type": "code",
   "execution_count": 16,
   "id": "03f10b1f",
   "metadata": {},
   "outputs": [
    {
     "name": "stdout",
     "output_type": "stream",
     "text": [
      "\n",
      "El error (rmse) de test es: 9.941050480681374\n"
     ]
    }
   ],
   "source": [
    "# Error de test del modelo \n",
    "# ==============================================================================\n",
    "X_test = sm.add_constant(X_test, prepend=True)\n",
    "predicciones = modelo.predict(exog = X_test)\n",
    "rmse = mean_squared_error(\n",
    "        y_true  = y_test,\n",
    "        y_pred  = predicciones,\n",
    "        squared = False\n",
    "       )\n",
    "print(\"\")\n",
    "print(f\"El error (rmse) de test es: {rmse}\")"
   ]
  },
  {
   "cell_type": "code",
   "execution_count": null,
   "id": "3ce819c2",
   "metadata": {},
   "outputs": [],
   "source": []
  }
 ],
 "metadata": {
  "kernelspec": {
   "display_name": "Python 3 (ipykernel)",
   "language": "python",
   "name": "python3"
  },
  "language_info": {
   "codemirror_mode": {
    "name": "ipython",
    "version": 3
   },
   "file_extension": ".py",
   "mimetype": "text/x-python",
   "name": "python",
   "nbconvert_exporter": "python",
   "pygments_lexer": "ipython3",
   "version": "3.9.7"
  }
 },
 "nbformat": 4,
 "nbformat_minor": 5
}
